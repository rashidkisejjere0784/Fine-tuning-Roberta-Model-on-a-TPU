{
 "cells": [
  {
   "cell_type": "markdown",
   "id": "0b8d3ded",
   "metadata": {
    "papermill": {
     "duration": 0.00852,
     "end_time": "2023-12-06T22:59:37.657154",
     "exception": false,
     "start_time": "2023-12-06T22:59:37.648634",
     "status": "completed"
    },
    "tags": []
   },
   "source": [
    "# DATA LADIES END OF YEAR HACKATHON NOTEBOOK 99.912% acc\n",
    "\n",
    "## Acknowledgment\n",
    "I want to express my heartfelt appreciation to the management team for orchestrating this engaging hackathon. This marked my beginning into data science competitions, and I must say it has been one of the most exciting experiences I've had. Throughout this journey, I've not only honed existing skills but also acquired new ones. In this comprehensive notebook, I am to share the details of my approach and methodologies that led to the remarkable 99.912% accuracy.\n",
    "    \n",
    "**anyway enough of the talking lets get started :)**"
   ]
  },
  {
   "cell_type": "markdown",
   "id": "ce8e3525",
   "metadata": {
    "papermill": {
     "duration": 0.007683,
     "end_time": "2023-12-06T22:59:37.674017",
     "exception": false,
     "start_time": "2023-12-06T22:59:37.666334",
     "status": "completed"
    },
    "tags": []
   },
   "source": [
    "# Import the necessary Models"
   ]
  },
  {
   "cell_type": "code",
   "execution_count": 1,
   "id": "564e8e3f",
   "metadata": {
    "execution": {
     "iopub.execute_input": "2023-12-06T22:59:37.690930Z",
     "iopub.status.busy": "2023-12-06T22:59:37.690612Z",
     "iopub.status.idle": "2023-12-06T22:59:42.207941Z",
     "shell.execute_reply": "2023-12-06T22:59:42.207152Z"
    },
    "papermill": {
     "duration": 4.528286,
     "end_time": "2023-12-06T22:59:42.209996",
     "exception": false,
     "start_time": "2023-12-06T22:59:37.681710",
     "status": "completed"
    },
    "tags": []
   },
   "outputs": [
    {
     "name": "stdout",
     "output_type": "stream",
     "text": [
      "Collecting seaborn\r\n",
      "  Downloading seaborn-0.13.0-py3-none-any.whl (294 kB)\r\n",
      "\u001b[2K     \u001b[90m━━━━━━━━━━━━━━━━━━━━━━━━━━━━━━━━━━━━━━━\u001b[0m \u001b[32m294.6/294.6 kB\u001b[0m \u001b[31m5.3 MB/s\u001b[0m eta \u001b[36m0:00:00\u001b[0m\r\n",
      "\u001b[?25hRequirement already satisfied: pandas>=1.2 in /usr/local/lib/python3.10/site-packages (from seaborn) (2.1.3)\r\n",
      "Requirement already satisfied: matplotlib!=3.6.1,>=3.3 in /usr/local/lib/python3.10/site-packages (from seaborn) (3.8.1)\r\n",
      "Requirement already satisfied: numpy!=1.24.0,>=1.20 in /usr/local/lib/python3.10/site-packages (from seaborn) (1.26.1)\r\n",
      "Requirement already satisfied: fonttools>=4.22.0 in /usr/local/lib/python3.10/site-packages (from matplotlib!=3.6.1,>=3.3->seaborn) (4.44.0)\r\n",
      "Requirement already satisfied: pyparsing>=2.3.1 in /usr/local/lib/python3.10/site-packages (from matplotlib!=3.6.1,>=3.3->seaborn) (3.1.1)\r\n",
      "Requirement already satisfied: cycler>=0.10 in /usr/local/lib/python3.10/site-packages (from matplotlib!=3.6.1,>=3.3->seaborn) (0.12.1)\r\n",
      "Requirement already satisfied: packaging>=20.0 in /usr/local/lib/python3.10/site-packages (from matplotlib!=3.6.1,>=3.3->seaborn) (23.2)\r\n",
      "Requirement already satisfied: kiwisolver>=1.3.1 in /usr/local/lib/python3.10/site-packages (from matplotlib!=3.6.1,>=3.3->seaborn) (1.4.5)\r\n",
      "Requirement already satisfied: pillow>=8 in /usr/local/lib/python3.10/site-packages (from matplotlib!=3.6.1,>=3.3->seaborn) (10.1.0)\r\n",
      "Requirement already satisfied: contourpy>=1.0.1 in /usr/local/lib/python3.10/site-packages (from matplotlib!=3.6.1,>=3.3->seaborn) (1.2.0)\r\n",
      "Requirement already satisfied: python-dateutil>=2.7 in /usr/local/lib/python3.10/site-packages (from matplotlib!=3.6.1,>=3.3->seaborn) (2.8.2)\r\n",
      "Requirement already satisfied: pytz>=2020.1 in /usr/local/lib/python3.10/site-packages (from pandas>=1.2->seaborn) (2023.3.post1)\r\n",
      "Requirement already satisfied: tzdata>=2022.1 in /usr/local/lib/python3.10/site-packages (from pandas>=1.2->seaborn) (2023.3)\r\n",
      "Requirement already satisfied: six>=1.5 in /usr/local/lib/python3.10/site-packages (from python-dateutil>=2.7->matplotlib!=3.6.1,>=3.3->seaborn) (1.16.0)\r\n",
      "Installing collected packages: seaborn\r\n",
      "Successfully installed seaborn-0.13.0\r\n",
      "\u001b[33mWARNING: Running pip as the 'root' user can result in broken permissions and conflicting behaviour with the system package manager. It is recommended to use a virtual environment instead: https://pip.pypa.io/warnings/venv\u001b[0m\u001b[33m\r\n",
      "\u001b[0m\r\n",
      "\u001b[1m[\u001b[0m\u001b[34;49mnotice\u001b[0m\u001b[1;39;49m]\u001b[0m\u001b[39;49m A new release of pip is available: \u001b[0m\u001b[31;49m23.0.1\u001b[0m\u001b[39;49m -> \u001b[0m\u001b[32;49m23.3.1\u001b[0m\r\n",
      "\u001b[1m[\u001b[0m\u001b[34;49mnotice\u001b[0m\u001b[1;39;49m]\u001b[0m\u001b[39;49m To update, run: \u001b[0m\u001b[32;49mpip install --upgrade pip\u001b[0m\r\n"
     ]
    }
   ],
   "source": [
    "!pip install seaborn"
   ]
  },
  {
   "cell_type": "code",
   "execution_count": 2,
   "id": "820c3cbe",
   "metadata": {
    "execution": {
     "iopub.execute_input": "2023-12-06T22:59:42.226090Z",
     "iopub.status.busy": "2023-12-06T22:59:42.225777Z",
     "iopub.status.idle": "2023-12-06T22:59:46.593200Z",
     "shell.execute_reply": "2023-12-06T22:59:46.592516Z"
    },
    "papermill": {
     "duration": 4.378136,
     "end_time": "2023-12-06T22:59:46.595600",
     "exception": false,
     "start_time": "2023-12-06T22:59:42.217464",
     "status": "completed"
    },
    "tags": []
   },
   "outputs": [],
   "source": [
    "import numpy as np\n",
    "import regex as re\n",
    "import pandas as pd\n",
    "import matplotlib.pyplot as plt\n",
    "import seaborn as sns\n",
    "import statistics\n",
    "import math\n",
    "import os"
   ]
  },
  {
   "cell_type": "code",
   "execution_count": 3,
   "id": "3690cfd8",
   "metadata": {
    "execution": {
     "iopub.execute_input": "2023-12-06T22:59:46.611420Z",
     "iopub.status.busy": "2023-12-06T22:59:46.611097Z",
     "iopub.status.idle": "2023-12-06T23:00:25.979229Z",
     "shell.execute_reply": "2023-12-06T23:00:25.978220Z"
    },
    "papermill": {
     "duration": 39.378915,
     "end_time": "2023-12-06T23:00:25.981760",
     "exception": false,
     "start_time": "2023-12-06T22:59:46.602845",
     "status": "completed"
    },
    "tags": []
   },
   "outputs": [
    {
     "name": "stderr",
     "output_type": "stream",
     "text": [
      "/usr/local/lib/python3.10/site-packages/tqdm/auto.py:21: TqdmWarning: IProgress not found. Please update jupyter and ipywidgets. See https://ipywidgets.readthedocs.io/en/stable/user_install.html\n",
      "  from .autonotebook import tqdm as notebook_tqdm\n"
     ]
    }
   ],
   "source": [
    "from sklearn.model_selection import StratifiedKFold\n",
    "from sklearn.metrics import accuracy_score\n",
    "from sklearn.model_selection import train_test_split\n",
    "\n",
    "import tensorflow as tf\n",
    "\n",
    "import tensorflow.keras.backend as K\n",
    "import tokenizers\n",
    "from transformers import RobertaTokenizer, TFRobertaModel"
   ]
  },
  {
   "cell_type": "code",
   "execution_count": 4,
   "id": "080a5ddd",
   "metadata": {
    "execution": {
     "iopub.execute_input": "2023-12-06T23:00:25.998071Z",
     "iopub.status.busy": "2023-12-06T23:00:25.997414Z",
     "iopub.status.idle": "2023-12-06T23:00:26.001852Z",
     "shell.execute_reply": "2023-12-06T23:00:26.001166Z"
    },
    "papermill": {
     "duration": 0.014325,
     "end_time": "2023-12-06T23:00:26.003509",
     "exception": false,
     "start_time": "2023-12-06T23:00:25.989184",
     "status": "completed"
    },
    "tags": []
   },
   "outputs": [],
   "source": [
    "from collections import Counter\n",
    "\n",
    "import warnings\n",
    "warnings.filterwarnings(\"ignore\")"
   ]
  },
  {
   "cell_type": "markdown",
   "id": "f5e762d2",
   "metadata": {
    "papermill": {
     "duration": 0.006773,
     "end_time": "2023-12-06T23:00:26.017503",
     "exception": false,
     "start_time": "2023-12-06T23:00:26.010730",
     "status": "completed"
    },
    "tags": []
   },
   "source": [
    "# Activate the TPU\n",
    "\n",
    "In the pursuit of optimal performance, I used the power of Tensor Processing Units (TPUs) for training the following code. TPUs have proven to be very powerful, surpassing even GPUs in speed. Their exceptional efficiency becomes handy when handling large models such as Roberta Large, exhibiting remarkable and robust speeds that propel data science endeavors to new heights. 🚀\n",
    "\n",
    "*Please note kaggle always has alot of users pending to use the TPUs so you might have to be a bit patient for it accuary initiate.*"
   ]
  },
  {
   "cell_type": "code",
   "execution_count": 5,
   "id": "c3368b1b",
   "metadata": {
    "execution": {
     "iopub.execute_input": "2023-12-06T23:00:26.033167Z",
     "iopub.status.busy": "2023-12-06T23:00:26.032892Z",
     "iopub.status.idle": "2023-12-06T23:00:34.448907Z",
     "shell.execute_reply": "2023-12-06T23:00:34.447837Z"
    },
    "papermill": {
     "duration": 8.429541,
     "end_time": "2023-12-06T23:00:34.454235",
     "exception": false,
     "start_time": "2023-12-06T23:00:26.024694",
     "status": "completed"
    },
    "tags": []
   },
   "outputs": [
    {
     "name": "stdout",
     "output_type": "stream",
     "text": [
      "Device: \n",
      "INFO:tensorflow:Deallocate tpu buffers before initializing tpu system.\n",
      "INFO:tensorflow:Initializing the TPU system: local\n"
     ]
    },
    {
     "name": "stderr",
     "output_type": "stream",
     "text": [
      "2023-12-06 23:00:30.246615: E ./tensorflow/compiler/xla/stream_executor/stream_executor_internal.h:124] SetPriority unimplemented for this stream.\n",
      "2023-12-06 23:00:30.246729: E ./tensorflow/compiler/xla/stream_executor/stream_executor_internal.h:124] SetPriority unimplemented for this stream.\n",
      "2023-12-06 23:00:30.246819: E ./tensorflow/compiler/xla/stream_executor/stream_executor_internal.h:124] SetPriority unimplemented for this stream.\n",
      "2023-12-06 23:00:30.246894: E ./tensorflow/compiler/xla/stream_executor/stream_executor_internal.h:124] SetPriority unimplemented for this stream.\n",
      "2023-12-06 23:00:30.246969: E ./tensorflow/compiler/xla/stream_executor/stream_executor_internal.h:124] SetPriority unimplemented for this stream.\n",
      "2023-12-06 23:00:30.247185: E ./tensorflow/compiler/xla/stream_executor/stream_executor_internal.h:124] SetPriority unimplemented for this stream.\n",
      "2023-12-06 23:00:30.247268: E ./tensorflow/compiler/xla/stream_executor/stream_executor_internal.h:124] SetPriority unimplemented for this stream.\n",
      "2023-12-06 23:00:30.247331: E ./tensorflow/compiler/xla/stream_executor/stream_executor_internal.h:124] SetPriority unimplemented for this stream.\n",
      "2023-12-06 23:00:30.247397: E ./tensorflow/compiler/xla/stream_executor/stream_executor_internal.h:124] SetPriority unimplemented for this stream.\n",
      "2023-12-06 23:00:30.247629: E ./tensorflow/compiler/xla/stream_executor/stream_executor_internal.h:124] SetPriority unimplemented for this stream.\n",
      "2023-12-06 23:00:30.247887: E ./tensorflow/compiler/xla/stream_executor/stream_executor_internal.h:124] SetPriority unimplemented for this stream.\n",
      "2023-12-06 23:00:30.247985: E ./tensorflow/compiler/xla/stream_executor/stream_executor_internal.h:124] SetPriority unimplemented for this stream.\n",
      "2023-12-06 23:00:30.248070: E ./tensorflow/compiler/xla/stream_executor/stream_executor_internal.h:124] SetPriority unimplemented for this stream.\n",
      "2023-12-06 23:00:30.248147: E ./tensorflow/compiler/xla/stream_executor/stream_executor_internal.h:124] SetPriority unimplemented for this stream.\n",
      "2023-12-06 23:00:30.248238: E ./tensorflow/compiler/xla/stream_executor/stream_executor_internal.h:124] SetPriority unimplemented for this stream.\n",
      "2023-12-06 23:00:30.248449: E ./tensorflow/compiler/xla/stream_executor/stream_executor_internal.h:124] SetPriority unimplemented for this stream.\n",
      "2023-12-06 23:00:30.248546: E ./tensorflow/compiler/xla/stream_executor/stream_executor_internal.h:124] SetPriority unimplemented for this stream.\n",
      "2023-12-06 23:00:30.248634: E ./tensorflow/compiler/xla/stream_executor/stream_executor_internal.h:124] SetPriority unimplemented for this stream.\n",
      "2023-12-06 23:00:30.248727: E ./tensorflow/compiler/xla/stream_executor/stream_executor_internal.h:124] SetPriority unimplemented for this stream.\n",
      "2023-12-06 23:00:30.248817: E ./tensorflow/compiler/xla/stream_executor/stream_executor_internal.h:124] SetPriority unimplemented for this stream.\n",
      "2023-12-06 23:00:30.248994: E ./tensorflow/compiler/xla/stream_executor/stream_executor_internal.h:124] SetPriority unimplemented for this stream.\n",
      "2023-12-06 23:00:30.249082: E ./tensorflow/compiler/xla/stream_executor/stream_executor_internal.h:124] SetPriority unimplemented for this stream.\n",
      "2023-12-06 23:00:30.249178: E ./tensorflow/compiler/xla/stream_executor/stream_executor_internal.h:124] SetPriority unimplemented for this stream.\n",
      "2023-12-06 23:00:30.249264: E ./tensorflow/compiler/xla/stream_executor/stream_executor_internal.h:124] SetPriority unimplemented for this stream.\n",
      "2023-12-06 23:00:30.249346: E ./tensorflow/compiler/xla/stream_executor/stream_executor_internal.h:124] SetPriority unimplemented for this stream.\n",
      "2023-12-06 23:00:30.249593: E ./tensorflow/compiler/xla/stream_executor/stream_executor_internal.h:124] SetPriority unimplemented for this stream.\n",
      "2023-12-06 23:00:30.249684: E ./tensorflow/compiler/xla/stream_executor/stream_executor_internal.h:124] SetPriority unimplemented for this stream.\n",
      "2023-12-06 23:00:30.249786: E ./tensorflow/compiler/xla/stream_executor/stream_executor_internal.h:124] SetPriority unimplemented for this stream.\n",
      "2023-12-06 23:00:30.249873: E ./tensorflow/compiler/xla/stream_executor/stream_executor_internal.h:124] SetPriority unimplemented for this stream.\n",
      "2023-12-06 23:00:30.249956: E ./tensorflow/compiler/xla/stream_executor/stream_executor_internal.h:124] SetPriority unimplemented for this stream.\n",
      "2023-12-06 23:00:30.250181: E ./tensorflow/compiler/xla/stream_executor/stream_executor_internal.h:124] SetPriority unimplemented for this stream.\n",
      "2023-12-06 23:00:30.250271: E ./tensorflow/compiler/xla/stream_executor/stream_executor_internal.h:124] SetPriority unimplemented for this stream.\n",
      "2023-12-06 23:00:30.250371: E ./tensorflow/compiler/xla/stream_executor/stream_executor_internal.h:124] SetPriority unimplemented for this stream.\n",
      "2023-12-06 23:00:30.250457: E ./tensorflow/compiler/xla/stream_executor/stream_executor_internal.h:124] SetPriority unimplemented for this stream.\n",
      "2023-12-06 23:00:30.250569: E ./tensorflow/compiler/xla/stream_executor/stream_executor_internal.h:124] SetPriority unimplemented for this stream.\n",
      "2023-12-06 23:00:30.250852: E ./tensorflow/compiler/xla/stream_executor/stream_executor_internal.h:124] SetPriority unimplemented for this stream.\n",
      "2023-12-06 23:00:30.250955: E ./tensorflow/compiler/xla/stream_executor/stream_executor_internal.h:124] SetPriority unimplemented for this stream.\n",
      "2023-12-06 23:00:30.251047: E ./tensorflow/compiler/xla/stream_executor/stream_executor_internal.h:124] SetPriority unimplemented for this stream.\n",
      "2023-12-06 23:00:30.251146: E ./tensorflow/compiler/xla/stream_executor/stream_executor_internal.h:124] SetPriority unimplemented for this stream.\n",
      "2023-12-06 23:00:30.251237: E ./tensorflow/compiler/xla/stream_executor/stream_executor_internal.h:124] SetPriority unimplemented for this stream.\n"
     ]
    },
    {
     "name": "stdout",
     "output_type": "stream",
     "text": [
      "INFO:tensorflow:Finished initializing TPU system.\n"
     ]
    },
    {
     "name": "stderr",
     "output_type": "stream",
     "text": [
      "WARNING:absl:`tf.distribute.experimental.TPUStrategy` is deprecated, please use the non-experimental symbol `tf.distribute.TPUStrategy` instead.\n"
     ]
    },
    {
     "name": "stdout",
     "output_type": "stream",
     "text": [
      "INFO:tensorflow:Found TPU system:\n"
     ]
    },
    {
     "name": "stderr",
     "output_type": "stream",
     "text": [
      "INFO:tensorflow:Found TPU system:\n"
     ]
    },
    {
     "name": "stdout",
     "output_type": "stream",
     "text": [
      "INFO:tensorflow:*** Num TPU Cores: 8\n"
     ]
    },
    {
     "name": "stderr",
     "output_type": "stream",
     "text": [
      "INFO:tensorflow:*** Num TPU Cores: 8\n"
     ]
    },
    {
     "name": "stdout",
     "output_type": "stream",
     "text": [
      "INFO:tensorflow:*** Num TPU Workers: 1\n"
     ]
    },
    {
     "name": "stderr",
     "output_type": "stream",
     "text": [
      "INFO:tensorflow:*** Num TPU Workers: 1\n"
     ]
    },
    {
     "name": "stdout",
     "output_type": "stream",
     "text": [
      "INFO:tensorflow:*** Num TPU Cores Per Worker: 8\n"
     ]
    },
    {
     "name": "stderr",
     "output_type": "stream",
     "text": [
      "INFO:tensorflow:*** Num TPU Cores Per Worker: 8\n"
     ]
    },
    {
     "name": "stdout",
     "output_type": "stream",
     "text": [
      "INFO:tensorflow:*** Available Device: _DeviceAttributes(/job:localhost/replica:0/task:0/device:CPU:0, CPU, 0, 0)\n"
     ]
    },
    {
     "name": "stderr",
     "output_type": "stream",
     "text": [
      "INFO:tensorflow:*** Available Device: _DeviceAttributes(/job:localhost/replica:0/task:0/device:CPU:0, CPU, 0, 0)\n"
     ]
    },
    {
     "name": "stdout",
     "output_type": "stream",
     "text": [
      "INFO:tensorflow:*** Available Device: _DeviceAttributes(/job:localhost/replica:0/task:0/device:TPU:0, TPU, 0, 0)\n"
     ]
    },
    {
     "name": "stderr",
     "output_type": "stream",
     "text": [
      "INFO:tensorflow:*** Available Device: _DeviceAttributes(/job:localhost/replica:0/task:0/device:TPU:0, TPU, 0, 0)\n"
     ]
    },
    {
     "name": "stdout",
     "output_type": "stream",
     "text": [
      "INFO:tensorflow:*** Available Device: _DeviceAttributes(/job:localhost/replica:0/task:0/device:TPU:1, TPU, 0, 0)\n"
     ]
    },
    {
     "name": "stderr",
     "output_type": "stream",
     "text": [
      "INFO:tensorflow:*** Available Device: _DeviceAttributes(/job:localhost/replica:0/task:0/device:TPU:1, TPU, 0, 0)\n"
     ]
    },
    {
     "name": "stdout",
     "output_type": "stream",
     "text": [
      "INFO:tensorflow:*** Available Device: _DeviceAttributes(/job:localhost/replica:0/task:0/device:TPU:2, TPU, 0, 0)\n"
     ]
    },
    {
     "name": "stderr",
     "output_type": "stream",
     "text": [
      "INFO:tensorflow:*** Available Device: _DeviceAttributes(/job:localhost/replica:0/task:0/device:TPU:2, TPU, 0, 0)\n"
     ]
    },
    {
     "name": "stdout",
     "output_type": "stream",
     "text": [
      "INFO:tensorflow:*** Available Device: _DeviceAttributes(/job:localhost/replica:0/task:0/device:TPU:3, TPU, 0, 0)\n"
     ]
    },
    {
     "name": "stderr",
     "output_type": "stream",
     "text": [
      "INFO:tensorflow:*** Available Device: _DeviceAttributes(/job:localhost/replica:0/task:0/device:TPU:3, TPU, 0, 0)\n"
     ]
    },
    {
     "name": "stdout",
     "output_type": "stream",
     "text": [
      "INFO:tensorflow:*** Available Device: _DeviceAttributes(/job:localhost/replica:0/task:0/device:TPU:4, TPU, 0, 0)\n"
     ]
    },
    {
     "name": "stderr",
     "output_type": "stream",
     "text": [
      "INFO:tensorflow:*** Available Device: _DeviceAttributes(/job:localhost/replica:0/task:0/device:TPU:4, TPU, 0, 0)\n"
     ]
    },
    {
     "name": "stdout",
     "output_type": "stream",
     "text": [
      "INFO:tensorflow:*** Available Device: _DeviceAttributes(/job:localhost/replica:0/task:0/device:TPU:5, TPU, 0, 0)\n"
     ]
    },
    {
     "name": "stderr",
     "output_type": "stream",
     "text": [
      "INFO:tensorflow:*** Available Device: _DeviceAttributes(/job:localhost/replica:0/task:0/device:TPU:5, TPU, 0, 0)\n"
     ]
    },
    {
     "name": "stdout",
     "output_type": "stream",
     "text": [
      "INFO:tensorflow:*** Available Device: _DeviceAttributes(/job:localhost/replica:0/task:0/device:TPU:6, TPU, 0, 0)\n"
     ]
    },
    {
     "name": "stderr",
     "output_type": "stream",
     "text": [
      "INFO:tensorflow:*** Available Device: _DeviceAttributes(/job:localhost/replica:0/task:0/device:TPU:6, TPU, 0, 0)\n"
     ]
    },
    {
     "name": "stdout",
     "output_type": "stream",
     "text": [
      "INFO:tensorflow:*** Available Device: _DeviceAttributes(/job:localhost/replica:0/task:0/device:TPU:7, TPU, 0, 0)\n"
     ]
    },
    {
     "name": "stderr",
     "output_type": "stream",
     "text": [
      "INFO:tensorflow:*** Available Device: _DeviceAttributes(/job:localhost/replica:0/task:0/device:TPU:7, TPU, 0, 0)\n"
     ]
    },
    {
     "name": "stdout",
     "output_type": "stream",
     "text": [
      "INFO:tensorflow:*** Available Device: _DeviceAttributes(/job:localhost/replica:0/task:0/device:TPU_SYSTEM:0, TPU_SYSTEM, 0, 0)\n"
     ]
    },
    {
     "name": "stderr",
     "output_type": "stream",
     "text": [
      "INFO:tensorflow:*** Available Device: _DeviceAttributes(/job:localhost/replica:0/task:0/device:TPU_SYSTEM:0, TPU_SYSTEM, 0, 0)\n"
     ]
    },
    {
     "name": "stdout",
     "output_type": "stream",
     "text": [
      "Number of replicas: 8\n"
     ]
    }
   ],
   "source": [
    "try:\n",
    "    tpu = tf.distribute.cluster_resolver.TPUClusterResolver()\n",
    "    print('Device:', tpu.master())\n",
    "    tf.config.experimental_connect_to_cluster(tpu)\n",
    "    tf.tpu.experimental.initialize_tpu_system(tpu)\n",
    "    strategy = tf.distribute.experimental.TPUStrategy(tpu)\n",
    "except:\n",
    "    print(\"TPU failed!\")\n",
    "    tpu = None\n",
    "    strategy = tf.distribute.get_strategy()\n",
    "print('Number of replicas:', strategy.num_replicas_in_sync)"
   ]
  },
  {
   "cell_type": "markdown",
   "id": "35a4f21f",
   "metadata": {
    "papermill": {
     "duration": 0.033583,
     "end_time": "2023-12-06T23:00:34.497345",
     "exception": false,
     "start_time": "2023-12-06T23:00:34.463762",
     "status": "completed"
    },
    "tags": []
   },
   "source": [
    "# EDA"
   ]
  },
  {
   "cell_type": "code",
   "execution_count": 6,
   "id": "c48e2207",
   "metadata": {
    "execution": {
     "iopub.execute_input": "2023-12-06T23:00:34.516624Z",
     "iopub.status.busy": "2023-12-06T23:00:34.516336Z",
     "iopub.status.idle": "2023-12-06T23:00:34.650876Z",
     "shell.execute_reply": "2023-12-06T23:00:34.649926Z"
    },
    "papermill": {
     "duration": 0.146378,
     "end_time": "2023-12-06T23:00:34.652608",
     "exception": false,
     "start_time": "2023-12-06T23:00:34.506230",
     "status": "completed"
    },
    "tags": []
   },
   "outputs": [
    {
     "data": {
      "text/html": [
       "<div>\n",
       "<style scoped>\n",
       "    .dataframe tbody tr th:only-of-type {\n",
       "        vertical-align: middle;\n",
       "    }\n",
       "\n",
       "    .dataframe tbody tr th {\n",
       "        vertical-align: top;\n",
       "    }\n",
       "\n",
       "    .dataframe thead th {\n",
       "        text-align: right;\n",
       "    }\n",
       "</style>\n",
       "<table border=\"1\" class=\"dataframe\">\n",
       "  <thead>\n",
       "    <tr style=\"text-align: right;\">\n",
       "      <th></th>\n",
       "      <th>headline</th>\n",
       "      <th>clickbait</th>\n",
       "      <th>ID</th>\n",
       "    </tr>\n",
       "  </thead>\n",
       "  <tbody>\n",
       "    <tr>\n",
       "      <th>0</th>\n",
       "      <td>Hussein enters \"not guilty\" plea at trial</td>\n",
       "      <td>0</td>\n",
       "      <td>84698cc7-8ae2-4ea3-a425-b7091561cee6</td>\n",
       "    </tr>\n",
       "    <tr>\n",
       "      <th>1</th>\n",
       "      <td>Iraq peace talks draw to a close in Finland</td>\n",
       "      <td>0</td>\n",
       "      <td>a4e35ca4-15fa-43e8-b68e-91457b23afee</td>\n",
       "    </tr>\n",
       "    <tr>\n",
       "      <th>2</th>\n",
       "      <td>British Premier Visits Northern Ireland</td>\n",
       "      <td>0</td>\n",
       "      <td>162991ee-ea2f-41ad-a753-649a68f54311</td>\n",
       "    </tr>\n",
       "    <tr>\n",
       "      <th>3</th>\n",
       "      <td>The Decline of Left-Handed First Basemen</td>\n",
       "      <td>0</td>\n",
       "      <td>2cd3aa32-6ec2-4af1-bd1d-560709066b8b</td>\n",
       "    </tr>\n",
       "    <tr>\n",
       "      <th>4</th>\n",
       "      <td>Who Said It: Donald Trump Or Kanye West</td>\n",
       "      <td>1</td>\n",
       "      <td>72553370-c348-4603-882b-39e04b610c39</td>\n",
       "    </tr>\n",
       "  </tbody>\n",
       "</table>\n",
       "</div>"
      ],
      "text/plain": [
       "                                      headline  clickbait  \\\n",
       "0    Hussein enters \"not guilty\" plea at trial          0   \n",
       "1  Iraq peace talks draw to a close in Finland          0   \n",
       "2      British Premier Visits Northern Ireland          0   \n",
       "3     The Decline of Left-Handed First Basemen          0   \n",
       "4      Who Said It: Donald Trump Or Kanye West          1   \n",
       "\n",
       "                                     ID  \n",
       "0  84698cc7-8ae2-4ea3-a425-b7091561cee6  \n",
       "1  a4e35ca4-15fa-43e8-b68e-91457b23afee  \n",
       "2  162991ee-ea2f-41ad-a753-649a68f54311  \n",
       "3  2cd3aa32-6ec2-4af1-bd1d-560709066b8b  \n",
       "4  72553370-c348-4603-882b-39e04b610c39  "
      ]
     },
     "execution_count": 6,
     "metadata": {},
     "output_type": "execute_result"
    }
   ],
   "source": [
    "df = pd.read_csv('/kaggle/input/data-ladies-end-of-year-hackathon/train_dataset.csv')\n",
    "df.head()"
   ]
  },
  {
   "cell_type": "code",
   "execution_count": 7,
   "id": "1f5e87e3",
   "metadata": {
    "execution": {
     "iopub.execute_input": "2023-12-06T23:00:34.672158Z",
     "iopub.status.busy": "2023-12-06T23:00:34.671866Z",
     "iopub.status.idle": "2023-12-06T23:00:34.679963Z",
     "shell.execute_reply": "2023-12-06T23:00:34.678999Z"
    },
    "papermill": {
     "duration": 0.019934,
     "end_time": "2023-12-06T23:00:34.681632",
     "exception": false,
     "start_time": "2023-12-06T23:00:34.661698",
     "status": "completed"
    },
    "tags": []
   },
   "outputs": [
    {
     "name": "stdout",
     "output_type": "stream",
     "text": [
      "headline 0.0\n",
      "clickbait 0.0\n",
      "ID 0.0\n"
     ]
    }
   ],
   "source": [
    "#Check for Null Values\n",
    "for column in df:\n",
    "    print(column, df[column].isnull().sum() / len(df) * 100)"
   ]
  },
  {
   "cell_type": "code",
   "execution_count": 8,
   "id": "e126e964",
   "metadata": {
    "execution": {
     "iopub.execute_input": "2023-12-06T23:00:34.702576Z",
     "iopub.status.busy": "2023-12-06T23:00:34.702277Z",
     "iopub.status.idle": "2023-12-06T23:00:34.709202Z",
     "shell.execute_reply": "2023-12-06T23:00:34.708421Z"
    },
    "papermill": {
     "duration": 0.019521,
     "end_time": "2023-12-06T23:00:34.710879",
     "exception": false,
     "start_time": "2023-12-06T23:00:34.691358",
     "status": "completed"
    },
    "tags": []
   },
   "outputs": [],
   "source": [
    "X_data = df[['headline']].to_numpy().reshape(-1)\n",
    "y_data = df[['clickbait']].values"
   ]
  },
  {
   "cell_type": "markdown",
   "id": "1026f5be",
   "metadata": {
    "papermill": {
     "duration": 0.009837,
     "end_time": "2023-12-06T23:00:34.730899",
     "exception": false,
     "start_time": "2023-12-06T23:00:34.721062",
     "status": "completed"
    },
    "tags": []
   },
   "source": [
    "## Check the classes distribution\n",
    "\n",
    "The classes have approximately the exact same length so no need to augment or even sample the dataset. so i will just continue with the dataset the way it is."
   ]
  },
  {
   "cell_type": "code",
   "execution_count": 9,
   "id": "cb7cd143",
   "metadata": {
    "_kg_hide-input": true,
    "execution": {
     "iopub.execute_input": "2023-12-06T23:00:34.750703Z",
     "iopub.status.busy": "2023-12-06T23:00:34.750447Z",
     "iopub.status.idle": "2023-12-06T23:00:34.941846Z",
     "shell.execute_reply": "2023-12-06T23:00:34.941071Z"
    },
    "papermill": {
     "duration": 0.202901,
     "end_time": "2023-12-06T23:00:34.943584",
     "exception": false,
     "start_time": "2023-12-06T23:00:34.740683",
     "status": "completed"
    },
    "tags": []
   },
   "outputs": [
    {
     "data": {
      "image/png": "[encoded data removed]",
      "text/plain": [
       "<Figure size 1000x500 with 1 Axes>"
      ]
     },
     "metadata": {},
     "output_type": "display_data"
    },
    {
     "name": "stdout",
     "output_type": "stream",
     "text": [
      "Counter({0: 15210, 1: 15190})\n"
     ]
    }
   ],
   "source": [
    "categories = df[['clickbait']].values.reshape(-1)\n",
    "\n",
    "counter_categories = Counter(categories)\n",
    "category_names = counter_categories.keys()\n",
    "category_values = counter_categories.values()\n",
    "\n",
    "y_pos = np.arange(len(category_names))\n",
    "\n",
    "plt.figure(1, figsize=(10, 5))\n",
    "plt.bar(y_pos, category_values, align='center', alpha=0.5)\n",
    "plt.xticks(y_pos, category_names)\n",
    "plt.ylabel('Number of texts')\n",
    "plt.title('Distribution of texts per category')\n",
    "plt.gca().yaxis.grid(True)\n",
    "plt.show()\n",
    "\n",
    "print(counter_categories)"
   ]
  },
  {
   "cell_type": "markdown",
   "id": "bb9158f1",
   "metadata": {
    "papermill": {
     "duration": 0.009764,
     "end_time": "2023-12-06T23:00:34.963072",
     "exception": false,
     "start_time": "2023-12-06T23:00:34.953308",
     "status": "completed"
    },
    "tags": []
   },
   "source": [
    "## Sequence length\n",
    "\n",
    "Before we select the best sequence length, we have to first check for the sentences with the longest sequences such that we don't lose any information during the training process. The Visualization shows that the maximum sentece length is of 135 characters."
   ]
  },
  {
   "cell_type": "code",
   "execution_count": 10,
   "id": "bf6dc593",
   "metadata": {
    "execution": {
     "iopub.execute_input": "2023-12-06T23:00:34.983178Z",
     "iopub.status.busy": "2023-12-06T23:00:34.982934Z",
     "iopub.status.idle": "2023-12-06T23:00:35.140380Z",
     "shell.execute_reply": "2023-12-06T23:00:35.139461Z"
    },
    "papermill": {
     "duration": 0.169682,
     "end_time": "2023-12-06T23:00:35.142056",
     "exception": false,
     "start_time": "2023-12-06T23:00:34.972374",
     "status": "completed"
    },
    "tags": []
   },
   "outputs": [
    {
     "data": {
      "text/plain": [
       "(array([ 119., 1815., 8077., 9896., 6900., 2643.,  746.,  156.,   34.,\n",
       "          14.]),\n",
       " array([  8. ,  20.7,  33.4,  46.1,  58.8,  71.5,  84.2,  96.9, 109.6,\n",
       "        122.3, 135. ]),\n",
       " <BarContainer object of 10 artists>)"
      ]
     },
     "execution_count": 10,
     "metadata": {},
     "output_type": "execute_result"
    },
    {
     "data": {
      "image/png": "[encoded data removed]",
      "text/plain": [
       "<Figure size 640x480 with 1 Axes>"
      ]
     },
     "metadata": {},
     "output_type": "display_data"
    }
   ],
   "source": [
    "df[\"sentence lengths\"] = df[\"headline\"].map(lambda x : len(x))\n",
    "\n",
    "plt.hist(df[\"sentence lengths\"])"
   ]
  },
  {
   "cell_type": "code",
   "execution_count": 11,
   "id": "c20eab3e",
   "metadata": {
    "execution": {
     "iopub.execute_input": "2023-12-06T23:00:35.163307Z",
     "iopub.status.busy": "2023-12-06T23:00:35.163066Z",
     "iopub.status.idle": "2023-12-06T23:00:35.167491Z",
     "shell.execute_reply": "2023-12-06T23:00:35.166767Z"
    },
    "papermill": {
     "duration": 0.01697,
     "end_time": "2023-12-06T23:00:35.169202",
     "exception": false,
     "start_time": "2023-12-06T23:00:35.152232",
     "status": "completed"
    },
    "tags": []
   },
   "outputs": [],
   "source": [
    "# Now we can define our variables\n",
    "MODEL_NAME = 'roberta-large'\n",
    "MAX_LEN = 135\n",
    "ARTIFACTS_PATH = '../artifacts/'\n",
    "\n",
    "BATCH_SIZE = 8 * strategy.num_replicas_in_sync\n",
    "\n",
    "if not os.path.exists(ARTIFACTS_PATH):\n",
    "    os.makedirs(ARTIFACTS_PATH)"
   ]
  },
  {
   "cell_type": "code",
   "execution_count": 12,
   "id": "44f5a3a6",
   "metadata": {
    "execution": {
     "iopub.execute_input": "2023-12-06T23:00:35.189907Z",
     "iopub.status.busy": "2023-12-06T23:00:35.189637Z",
     "iopub.status.idle": "2023-12-06T23:00:35.193828Z",
     "shell.execute_reply": "2023-12-06T23:00:35.193220Z"
    },
    "papermill": {
     "duration": 0.016419,
     "end_time": "2023-12-06T23:00:35.195298",
     "exception": false,
     "start_time": "2023-12-06T23:00:35.178879",
     "status": "completed"
    },
    "tags": []
   },
   "outputs": [
    {
     "data": {
      "text/plain": [
       "64"
      ]
     },
     "execution_count": 12,
     "metadata": {},
     "output_type": "execute_result"
    }
   ],
   "source": [
    "BATCH_SIZE"
   ]
  },
  {
   "cell_type": "code",
   "execution_count": 13,
   "id": "36ef09a1",
   "metadata": {
    "execution": {
     "iopub.execute_input": "2023-12-06T23:00:35.215861Z",
     "iopub.status.busy": "2023-12-06T23:00:35.215629Z",
     "iopub.status.idle": "2023-12-06T23:00:35.220091Z",
     "shell.execute_reply": "2023-12-06T23:00:35.219374Z"
    },
    "papermill": {
     "duration": 0.016592,
     "end_time": "2023-12-06T23:00:35.221613",
     "exception": false,
     "start_time": "2023-12-06T23:00:35.205021",
     "status": "completed"
    },
    "tags": []
   },
   "outputs": [
    {
     "name": "stdout",
     "output_type": "stream",
     "text": [
      "Texts in dataset: 30400\n",
      "Number of categories: 2\n",
      "Done!\n"
     ]
    }
   ],
   "source": [
    "n_texts = len(X_data)\n",
    "print('Texts in dataset: %d' % n_texts)\n",
    "\n",
    "categories = df['clickbait'].unique()\n",
    "n_categories = len(categories)\n",
    "print('Number of categories: %d' % n_categories)\n",
    "\n",
    "print('Done!')"
   ]
  },
  {
   "cell_type": "markdown",
   "id": "2fdf6a5a",
   "metadata": {
    "papermill": {
     "duration": 0.009699,
     "end_time": "2023-12-06T23:00:35.241265",
     "exception": false,
     "start_time": "2023-12-06T23:00:35.231566",
     "status": "completed"
    },
    "tags": []
   },
   "source": [
    "# THE MODEL\n",
    "\n",
    "We will be finetuning the Roberta Large Model for this classification task. \n",
    "\n",
    "## But why RoBerta 🤔\n",
    "\n",
    "RoBERTa is a natural language processing (NLP) model that is based on Google’s BERT model.It uses self-attention to process input sequences and generate contextualized representations of words in a sentence, similar to BERT. However, RoBERTa was trained on a much larger dataset and using a more effective training procedure than BERT. This allows RoBERTa to improve on the masked language modeling objective compared with BERT and leads to better downstream task performance.\n",
    "\n",
    "Makes sense ? Great Let's Continue\n",
    "\n",
    "We will bw using huggingface 🤗 transformers pretrained model roberta-large. Lets get to it then.\n",
    "\n",
    "First we are going to build the tokenize there after finetune the model on our dataset"
   ]
  },
  {
   "cell_type": "code",
   "execution_count": 14,
   "id": "4c4b9122",
   "metadata": {
    "execution": {
     "iopub.execute_input": "2023-12-06T23:00:35.261854Z",
     "iopub.status.busy": "2023-12-06T23:00:35.261620Z",
     "iopub.status.idle": "2023-12-06T23:00:35.267102Z",
     "shell.execute_reply": "2023-12-06T23:00:35.266507Z"
    },
    "papermill": {
     "duration": 0.017704,
     "end_time": "2023-12-06T23:00:35.268652",
     "exception": false,
     "start_time": "2023-12-06T23:00:35.250948",
     "status": "completed"
    },
    "tags": []
   },
   "outputs": [],
   "source": [
    "def roberta_encode(texts, tokenizer):\n",
    "    ct = len(texts)\n",
    "    input_ids = np.ones((ct, MAX_LEN), dtype='int32')\n",
    "    attention_mask = np.zeros((ct, MAX_LEN), dtype='int32')\n",
    "    token_type_ids = np.zeros((ct, MAX_LEN), dtype='int32') # Not used in text classification\n",
    "\n",
    "    for k, text in enumerate(texts):\n",
    "        \n",
    "        # Tokenize\n",
    "        tok_text = tokenizer.tokenize(text)\n",
    "\n",
    "        # Truncate and convert tokens to numerical IDs\n",
    "        enc_text = tokenizer.convert_tokens_to_ids(tok_text[:(MAX_LEN-2)])\n",
    "\n",
    "        input_length = len(enc_text) + 2\n",
    "        input_length = input_length if input_length < MAX_LEN else MAX_LEN\n",
    "\n",
    "        # Add tokens [CLS] and [SEP] at the beginning and the end\n",
    "        input_ids[k,:input_length] = np.asarray([0] + enc_text + [2], dtype='int32')\n",
    "\n",
    "        # Set to 1s in the attention input\n",
    "        attention_mask[k,:input_length] = 1\n",
    "\n",
    "    return {\n",
    "        'input_word_ids': input_ids,\n",
    "        'input_mask': attention_mask,\n",
    "        'input_type_ids': token_type_ids\n",
    "    }"
   ]
  },
  {
   "cell_type": "code",
   "execution_count": 15,
   "id": "341dc0f9",
   "metadata": {
    "execution": {
     "iopub.execute_input": "2023-12-06T23:00:35.289275Z",
     "iopub.status.busy": "2023-12-06T23:00:35.289018Z",
     "iopub.status.idle": "2023-12-06T23:00:35.292886Z",
     "shell.execute_reply": "2023-12-06T23:00:35.292225Z"
    },
    "papermill": {
     "duration": 0.016196,
     "end_time": "2023-12-06T23:00:35.294440",
     "exception": false,
     "start_time": "2023-12-06T23:00:35.278244",
     "status": "completed"
    },
    "tags": []
   },
   "outputs": [],
   "source": [
    "y_data = tf.keras.utils.to_categorical(y_data)"
   ]
  },
  {
   "cell_type": "code",
   "execution_count": 16,
   "id": "35d89538",
   "metadata": {
    "execution": {
     "iopub.execute_input": "2023-12-06T23:00:35.315119Z",
     "iopub.status.busy": "2023-12-06T23:00:35.314898Z",
     "iopub.status.idle": "2023-12-06T23:00:35.322488Z",
     "shell.execute_reply": "2023-12-06T23:00:35.321864Z"
    },
    "papermill": {
     "duration": 0.019857,
     "end_time": "2023-12-06T23:00:35.324130",
     "exception": false,
     "start_time": "2023-12-06T23:00:35.304273",
     "status": "completed"
    },
    "tags": []
   },
   "outputs": [],
   "source": [
    "# Split into train and test datasets\n",
    "X_train, X_test, y_train, y_test = train_test_split(X_data, y_data, test_size=0.3, random_state=777) # random_state to reproduce results"
   ]
  },
  {
   "cell_type": "code",
   "execution_count": 17,
   "id": "47c30e99",
   "metadata": {
    "execution": {
     "iopub.execute_input": "2023-12-06T23:00:35.344928Z",
     "iopub.status.busy": "2023-12-06T23:00:35.344702Z",
     "iopub.status.idle": "2023-12-06T23:00:35.349192Z",
     "shell.execute_reply": "2023-12-06T23:00:35.348512Z"
    },
    "papermill": {
     "duration": 0.016737,
     "end_time": "2023-12-06T23:00:35.350741",
     "exception": false,
     "start_time": "2023-12-06T23:00:35.334004",
     "status": "completed"
    },
    "tags": []
   },
   "outputs": [
    {
     "data": {
      "text/plain": [
       "((21280,), (9120,), (21280, 2), (9120, 2))"
      ]
     },
     "execution_count": 17,
     "metadata": {},
     "output_type": "execute_result"
    }
   ],
   "source": [
    "X_train.shape, X_test.shape, y_train.shape, y_test.shape"
   ]
  },
  {
   "cell_type": "code",
   "execution_count": 18,
   "id": "ec72e434",
   "metadata": {
    "execution": {
     "iopub.execute_input": "2023-12-06T23:00:35.372267Z",
     "iopub.status.busy": "2023-12-06T23:00:35.372026Z",
     "iopub.status.idle": "2023-12-06T23:00:35.380416Z",
     "shell.execute_reply": "2023-12-06T23:00:35.379460Z"
    },
    "papermill": {
     "duration": 0.021313,
     "end_time": "2023-12-06T23:00:35.382232",
     "exception": false,
     "start_time": "2023-12-06T23:00:35.360919",
     "status": "completed"
    },
    "tags": []
   },
   "outputs": [],
   "source": [
    "from transformers import AutoTokenizer, TFAutoModel"
   ]
  },
  {
   "cell_type": "code",
   "execution_count": 19,
   "id": "12117684",
   "metadata": {
    "execution": {
     "iopub.execute_input": "2023-12-06T23:00:35.403158Z",
     "iopub.status.busy": "2023-12-06T23:00:35.402938Z",
     "iopub.status.idle": "2023-12-06T23:00:36.214059Z",
     "shell.execute_reply": "2023-12-06T23:00:36.213106Z"
    },
    "papermill": {
     "duration": 0.823845,
     "end_time": "2023-12-06T23:00:36.215921",
     "exception": false,
     "start_time": "2023-12-06T23:00:35.392076",
     "status": "completed"
    },
    "tags": []
   },
   "outputs": [
    {
     "name": "stderr",
     "output_type": "stream",
     "text": [
      "Downloading config.json: 100%|██████████| 482/482 [00:00<00:00, 1.84MB/s]\n",
      "Downloading vocab.json: 100%|██████████| 899k/899k [00:00<00:00, 14.1MB/s]\n",
      "Downloading merges.txt: 100%|██████████| 456k/456k [00:00<00:00, 30.8MB/s]\n",
      "Downloading tokenizer.json: 100%|██████████| 1.36M/1.36M [00:00<00:00, 35.0MB/s]\n"
     ]
    }
   ],
   "source": [
    "# Import tokenizer from HuggingFace\n",
    "tokenizer = AutoTokenizer.from_pretrained(MODEL_NAME)"
   ]
  },
  {
   "cell_type": "code",
   "execution_count": 20,
   "id": "a31043d3",
   "metadata": {
    "execution": {
     "iopub.execute_input": "2023-12-06T23:00:36.239602Z",
     "iopub.status.busy": "2023-12-06T23:00:36.239248Z",
     "iopub.status.idle": "2023-12-06T23:00:39.077668Z",
     "shell.execute_reply": "2023-12-06T23:00:39.076500Z"
    },
    "papermill": {
     "duration": 2.852984,
     "end_time": "2023-12-06T23:00:39.080161",
     "exception": false,
     "start_time": "2023-12-06T23:00:36.227177",
     "status": "completed"
    },
    "tags": []
   },
   "outputs": [],
   "source": [
    "X_train = roberta_encode(X_train, tokenizer)\n",
    "X_test = roberta_encode(X_test, tokenizer)\n",
    "\n",
    "y_train = np.asarray(y_train, dtype='int32')\n",
    "y_test = np.asarray(y_test, dtype='int32')"
   ]
  },
  {
   "cell_type": "markdown",
   "id": "e36e3a80",
   "metadata": {
    "papermill": {
     "duration": 0.010439,
     "end_time": "2023-12-06T23:00:39.101400",
     "exception": false,
     "start_time": "2023-12-06T23:00:39.090961",
     "status": "completed"
    },
    "tags": []
   },
   "source": [
    "# Next We Build the Model\n",
    "\n",
    "since we are using TPUs, we have to include the strategy.scope() when initiating our such that the model is built on the TPU devices. this will give the blazing traing speeds  🚀.\n",
    "\n",
    "**NB**\n",
    "The model uses an addition Layer Normalization layer so as to normalize our layers and as a result improve the overall models performance. This idea was adopted from the following [link](https://www.sciencedirect.com/science/article/pii/S2666827022000792),\n",
    "i removed dropout because the accuracy was decreasing on continous testing.\n",
    "\n",
    "I also added another dense layer with ***selu activation function***.\n",
    "\n",
    "## Now why Selu 🤔\n",
    "\n",
    "The Scaled Exponential Linear Unit (SELU) is an activation function similar to the Rectified Linear Unit (ReLU) activation function, but with some key differences.  The SELU function has the property of self-normalization, which means that the output of each layer of a neural network will have zero mean and unit variance if the weights are initialized in a certain way. This can lead to faster convergence and better performance on certain tasks.\n",
    "\n",
    "Make Sense ?, Let's continue 🙂"
   ]
  },
  {
   "cell_type": "code",
   "execution_count": 21,
   "id": "d36209c2",
   "metadata": {
    "execution": {
     "iopub.execute_input": "2023-12-06T23:00:39.124031Z",
     "iopub.status.busy": "2023-12-06T23:00:39.123721Z",
     "iopub.status.idle": "2023-12-06T23:00:39.131170Z",
     "shell.execute_reply": "2023-12-06T23:00:39.130258Z"
    },
    "papermill": {
     "duration": 0.020897,
     "end_time": "2023-12-06T23:00:39.132707",
     "exception": false,
     "start_time": "2023-12-06T23:00:39.111810",
     "status": "completed"
    },
    "tags": []
   },
   "outputs": [],
   "source": [
    "def build_model(n_categories):\n",
    "    with strategy.scope():\n",
    "        input_word_ids = tf.keras.Input(shape=(MAX_LEN,), dtype=tf.int32, name='input_word_ids')\n",
    "        input_mask = tf.keras.Input(shape=(MAX_LEN,), dtype=tf.int32, name='input_mask')\n",
    "        input_type_ids = tf.keras.Input(shape=(MAX_LEN,), dtype=tf.int32, name='input_type_ids')\n",
    "\n",
    "        # Import RoBERTa model from HuggingFace\n",
    "        roberta_model = TFAutoModel.from_pretrained(MODEL_NAME)\n",
    "        x = roberta_model(input_word_ids, attention_mask=input_mask, token_type_ids=input_type_ids)\n",
    "\n",
    "        # Huggingface transformers have multiple outputs, embeddings are the first one,\n",
    "        # so let's slice out the first position\n",
    "        x = x[0]\n",
    "\n",
    "        x = tf.keras.layers.LayerNormalization()(x)\n",
    "        x = tf.keras.layers.GlobalAveragePooling1D()(x)\n",
    "        x = tf.keras.layers.Dense(256, activation='selu')(x)\n",
    "        x = tf.keras.layers.Dense(2, activation='softmax')(x)\n",
    "\n",
    "        model = tf.keras.Model(inputs=[input_word_ids, input_mask, input_type_ids], outputs=x)\n",
    "        model.compile(\n",
    "            optimizer=tf.keras.optimizers.Adam(learning_rate=1e-5),\n",
    "            loss='categorical_crossentropy',\n",
    "            metrics=['accuracy'])\n",
    "\n",
    "        return model"
   ]
  },
  {
   "cell_type": "code",
   "execution_count": 22,
   "id": "180be34a",
   "metadata": {
    "execution": {
     "iopub.execute_input": "2023-12-06T23:00:39.156134Z",
     "iopub.status.busy": "2023-12-06T23:00:39.155853Z",
     "iopub.status.idle": "2023-12-06T23:01:21.982690Z",
     "shell.execute_reply": "2023-12-06T23:01:21.981798Z"
    },
    "papermill": {
     "duration": 42.840532,
     "end_time": "2023-12-06T23:01:21.984391",
     "exception": false,
     "start_time": "2023-12-06T23:00:39.143859",
     "status": "completed"
    },
    "tags": []
   },
   "outputs": [
    {
     "name": "stderr",
     "output_type": "stream",
     "text": [
      "Downloading model.safetensors: 100%|██████████| 1.42G/1.42G [00:06<00:00, 210MB/s]\n",
      "2023-12-06 23:00:46.772377: E ./tensorflow/compiler/xla/stream_executor/stream_executor_internal.h:124] SetPriority unimplemented for this stream.\n",
      "2023-12-06 23:00:46.772505: E ./tensorflow/compiler/xla/stream_executor/stream_executor_internal.h:124] SetPriority unimplemented for this stream.\n",
      "Some weights of the PyTorch model were not used when initializing the TF 2.0 model TFRobertaModel: ['lm_head.layer_norm.bias', 'lm_head.layer_norm.weight', 'lm_head.bias', 'lm_head.dense.bias', 'lm_head.dense.weight', 'roberta.embeddings.position_ids']\n",
      "- This IS expected if you are initializing TFRobertaModel from a PyTorch model trained on another task or with another architecture (e.g. initializing a TFBertForSequenceClassification model from a BertForPreTraining model).\n",
      "- This IS NOT expected if you are initializing TFRobertaModel from a PyTorch model that you expect to be exactly identical (e.g. initializing a TFBertForSequenceClassification model from a BertForSequenceClassification model).\n",
      "Some weights or buffers of the TF 2.0 model TFRobertaModel were not initialized from the PyTorch model and are newly initialized: ['roberta.pooler.dense.weight', 'roberta.pooler.dense.bias']\n",
      "You should probably TRAIN this model on a down-stream task to be able to use it for predictions and inference.\n"
     ]
    },
    {
     "name": "stdout",
     "output_type": "stream",
     "text": [
      "Model: \"model\"\n",
      "__________________________________________________________________________________________________\n",
      " Layer (type)                Output Shape                 Param #   Connected to                  \n",
      "==================================================================================================\n",
      " input_word_ids (InputLayer  [(None, 135)]                0         []                            \n",
      " )                                                                                                \n",
      "                                                                                                  \n",
      " input_mask (InputLayer)     [(None, 135)]                0         []                            \n",
      "                                                                                                  \n",
      " input_type_ids (InputLayer  [(None, 135)]                0         []                            \n",
      " )                                                                                                \n",
      "                                                                                                  \n",
      " tf_roberta_model (TFRobert  TFBaseModelOutputWithPooli   3553597   ['input_word_ids[0][0]',      \n",
      " aModel)                     ngAndCrossAttentions(last_   44         'input_mask[0][0]',          \n",
      "                             hidden_state=(None, 135, 1              'input_type_ids[0][0]']      \n",
      "                             024),                                                                \n",
      "                              pooler_output=(None, 1024                                           \n",
      "                             ),                                                                   \n",
      "                              past_key_values=None, hid                                           \n",
      "                             den_states=None, attention                                           \n",
      "                             s=None, cross_attentions=N                                           \n",
      "                             one)                                                                 \n",
      "                                                                                                  \n",
      " layer_normalization (Layer  (None, 135, 1024)            2048      ['tf_roberta_model[0][0]']    \n",
      " Normalization)                                                                                   \n",
      "                                                                                                  \n",
      " global_average_pooling1d (  (None, 1024)                 0         ['layer_normalization[0][0]'] \n",
      " GlobalAveragePooling1D)                                                                          \n",
      "                                                                                                  \n",
      " dense (Dense)               (None, 256)                  262400    ['global_average_pooling1d[0][\n",
      "                                                                    0]']                          \n",
      "                                                                                                  \n",
      " dense_1 (Dense)             (None, 2)                    514       ['dense[0][0]']               \n",
      "                                                                                                  \n",
      "==================================================================================================\n",
      "Total params: 355624706 (1.32 GB)\n",
      "Trainable params: 355624706 (1.32 GB)\n",
      "Non-trainable params: 0 (0.00 Byte)\n",
      "__________________________________________________________________________________________________\n"
     ]
    }
   ],
   "source": [
    "with strategy.scope():\n",
    "    model = build_model(n_categories)\n",
    "    model.summary()"
   ]
  },
  {
   "cell_type": "code",
   "execution_count": 23,
   "id": "768691de",
   "metadata": {
    "execution": {
     "iopub.execute_input": "2023-12-06T23:01:22.016839Z",
     "iopub.status.busy": "2023-12-06T23:01:22.016564Z",
     "iopub.status.idle": "2023-12-06T23:01:22.020295Z",
     "shell.execute_reply": "2023-12-06T23:01:22.019624Z"
    },
    "papermill": {
     "duration": 0.021929,
     "end_time": "2023-12-06T23:01:22.021758",
     "exception": false,
     "start_time": "2023-12-06T23:01:21.999829",
     "status": "completed"
    },
    "tags": []
   },
   "outputs": [],
   "source": [
    "EPOCHS = 15"
   ]
  },
  {
   "cell_type": "markdown",
   "id": "65e105e4",
   "metadata": {
    "papermill": {
     "duration": 0.014722,
     "end_time": "2023-12-06T23:01:22.051836",
     "exception": false,
     "start_time": "2023-12-06T23:01:22.037114",
     "status": "completed"
    },
    "tags": []
   },
   "source": [
    "# Callbacks\n",
    "\n",
    "I used two callbacks\n",
    "* EarlyStopping this is used to stop the model from overffiting the training set\n",
    "* The model checkpoint to save best models. I saved the weights of the best and the can be found [here](https://huggingface.co/rashid0784/data-ladies-roberta-large-weights/tree/main). The Weights of the best model are named **model 4.h5** This is the same model i used for the leaderboard submission. "
   ]
  },
  {
   "cell_type": "code",
   "execution_count": 24,
   "id": "820e47d5",
   "metadata": {
    "execution": {
     "iopub.execute_input": "2023-12-06T23:01:22.082863Z",
     "iopub.status.busy": "2023-12-06T23:01:22.082579Z",
     "iopub.status.idle": "2023-12-06T23:01:22.087199Z",
     "shell.execute_reply": "2023-12-06T23:01:22.086517Z"
    },
    "papermill": {
     "duration": 0.02205,
     "end_time": "2023-12-06T23:01:22.088880",
     "exception": false,
     "start_time": "2023-12-06T23:01:22.066830",
     "status": "completed"
    },
    "tags": []
   },
   "outputs": [],
   "source": [
    "patience_callback = tf.keras.callbacks.EarlyStopping(\n",
    "    monitor=\"val_accuracy\",\n",
    "    patience=3\n",
    ")\n",
    "\n",
    "model_checkpoint_callback = tf.keras.callbacks.ModelCheckpoint(\n",
    "    monitor=\"val_accuracy\",\n",
    "    filepath=\"model weight.h5\",\n",
    "    save_weights_only=True,\n",
    "    save_best_only=True\n",
    ") "
   ]
  },
  {
   "cell_type": "code",
   "execution_count": 25,
   "id": "3f467aa1",
   "metadata": {
    "execution": {
     "iopub.execute_input": "2023-12-06T23:01:22.119930Z",
     "iopub.status.busy": "2023-12-06T23:01:22.119703Z",
     "iopub.status.idle": "2023-12-06T23:13:14.445497Z",
     "shell.execute_reply": "2023-12-06T23:13:14.444436Z"
    },
    "papermill": {
     "duration": 712.343789,
     "end_time": "2023-12-06T23:13:14.447686",
     "exception": false,
     "start_time": "2023-12-06T23:01:22.103897",
     "status": "completed"
    },
    "tags": []
   },
   "outputs": [
    {
     "name": "stdout",
     "output_type": "stream",
     "text": [
      "Training...\n",
      "Epoch 1/15\n"
     ]
    },
    {
     "name": "stderr",
     "output_type": "stream",
     "text": [
      "2023-12-06 23:01:22.570756: E ./tensorflow/compiler/xla/stream_executor/stream_executor_internal.h:124] SetPriority unimplemented for this stream.\n",
      "2023-12-06 23:01:22.588826: E ./tensorflow/compiler/xla/stream_executor/stream_executor_internal.h:124] SetPriority unimplemented for this stream.\n",
      "2023-12-06 23:01:22.606370: E ./tensorflow/compiler/xla/stream_executor/stream_executor_internal.h:124] SetPriority unimplemented for this stream.\n",
      "2023-12-06 23:01:22.624024: E ./tensorflow/compiler/xla/stream_executor/stream_executor_internal.h:124] SetPriority unimplemented for this stream.\n",
      "2023-12-06 23:01:22.641398: E ./tensorflow/compiler/xla/stream_executor/stream_executor_internal.h:124] SetPriority unimplemented for this stream.\n",
      "2023-12-06 23:01:22.658757: E ./tensorflow/compiler/xla/stream_executor/stream_executor_internal.h:124] SetPriority unimplemented for this stream.\n",
      "2023-12-06 23:01:22.676699: E ./tensorflow/compiler/xla/stream_executor/stream_executor_internal.h:124] SetPriority unimplemented for this stream.\n"
     ]
    },
    {
     "name": "stdout",
     "output_type": "stream",
     "text": [
      "WARNING:tensorflow:Gradients do not exist for variables ['tf_roberta_model/roberta/pooler/dense/kernel:0', 'tf_roberta_model/roberta/pooler/dense/bias:0'] when minimizing the loss. If you're using `model.compile()`, did you forget to provide a `loss` argument?\n"
     ]
    },
    {
     "name": "stderr",
     "output_type": "stream",
     "text": [
      "WARNING:tensorflow:Gradients do not exist for variables ['tf_roberta_model/roberta/pooler/dense/kernel:0', 'tf_roberta_model/roberta/pooler/dense/bias:0'] when minimizing the loss. If you're using `model.compile()`, did you forget to provide a `loss` argument?\n"
     ]
    },
    {
     "name": "stdout",
     "output_type": "stream",
     "text": [
      "WARNING:tensorflow:Gradients do not exist for variables ['tf_roberta_model/roberta/pooler/dense/kernel:0', 'tf_roberta_model/roberta/pooler/dense/bias:0'] when minimizing the loss. If you're using `model.compile()`, did you forget to provide a `loss` argument?\n"
     ]
    },
    {
     "name": "stderr",
     "output_type": "stream",
     "text": [
      "WARNING:tensorflow:Gradients do not exist for variables ['tf_roberta_model/roberta/pooler/dense/kernel:0', 'tf_roberta_model/roberta/pooler/dense/bias:0'] when minimizing the loss. If you're using `model.compile()`, did you forget to provide a `loss` argument?\n"
     ]
    },
    {
     "name": "stdout",
     "output_type": "stream",
     "text": [
      "WARNING:tensorflow:Gradients do not exist for variables ['tf_roberta_model/roberta/pooler/dense/kernel:0', 'tf_roberta_model/roberta/pooler/dense/bias:0'] when minimizing the loss. If you're using `model.compile()`, did you forget to provide a `loss` argument?\n"
     ]
    },
    {
     "name": "stderr",
     "output_type": "stream",
     "text": [
      "WARNING:tensorflow:Gradients do not exist for variables ['tf_roberta_model/roberta/pooler/dense/kernel:0', 'tf_roberta_model/roberta/pooler/dense/bias:0'] when minimizing the loss. If you're using `model.compile()`, did you forget to provide a `loss` argument?\n"
     ]
    },
    {
     "name": "stdout",
     "output_type": "stream",
     "text": [
      "WARNING:tensorflow:Gradients do not exist for variables ['tf_roberta_model/roberta/pooler/dense/kernel:0', 'tf_roberta_model/roberta/pooler/dense/bias:0'] when minimizing the loss. If you're using `model.compile()`, did you forget to provide a `loss` argument?\n"
     ]
    },
    {
     "name": "stderr",
     "output_type": "stream",
     "text": [
      "WARNING:tensorflow:Gradients do not exist for variables ['tf_roberta_model/roberta/pooler/dense/kernel:0', 'tf_roberta_model/roberta/pooler/dense/bias:0'] when minimizing the loss. If you're using `model.compile()`, did you forget to provide a `loss` argument?\n",
      "2023-12-06 23:02:21.673199: E tensorflow/core/grappler/optimizers/meta_optimizer.cc:961] model_pruner failed: INVALID_ARGUMENT: Graph does not contain terminal node Adam/AssignAddVariableOp.\n",
      "2023-12-06 23:02:28.101192: E ./tensorflow/compiler/xla/stream_executor/stream_executor_internal.h:124] SetPriority unimplemented for this stream.\n",
      "2023-12-06 23:02:28.104455: E ./tensorflow/compiler/xla/stream_executor/stream_executor_internal.h:124] SetPriority unimplemented for this stream.\n",
      "2023-12-06 23:02:28.104746: E ./tensorflow/compiler/xla/stream_executor/stream_executor_internal.h:124] SetPriority unimplemented for this stream.\n",
      "2023-12-06 23:02:28.104900: E ./tensorflow/compiler/xla/stream_executor/stream_executor_internal.h:124] SetPriority unimplemented for this stream.\n",
      "2023-12-06 23:02:28.105029: E ./tensorflow/compiler/xla/stream_executor/stream_executor_internal.h:124] SetPriority unimplemented for this stream.\n",
      "2023-12-06 23:02:28.105146: E ./tensorflow/compiler/xla/stream_executor/stream_executor_internal.h:124] SetPriority unimplemented for this stream.\n",
      "2023-12-06 23:02:28.105528: E ./tensorflow/compiler/xla/stream_executor/stream_executor_internal.h:124] SetPriority unimplemented for this stream.\n",
      "2023-12-06 23:02:28.105720: E ./tensorflow/compiler/xla/stream_executor/stream_executor_internal.h:124] SetPriority unimplemented for this stream.\n",
      "2023-12-06 23:02:28.105910: E ./tensorflow/compiler/xla/stream_executor/stream_executor_internal.h:124] SetPriority unimplemented for this stream.\n",
      "2023-12-06 23:02:28.106127: E ./tensorflow/compiler/xla/stream_executor/stream_executor_internal.h:124] SetPriority unimplemented for this stream.\n",
      "2023-12-06 23:02:28.106349: E ./tensorflow/compiler/xla/stream_executor/stream_executor_internal.h:124] SetPriority unimplemented for this stream.\n",
      "2023-12-06 23:04:01.941685: E ./tensorflow/compiler/xla/stream_executor/stream_executor_internal.h:124] SetPriority unimplemented for this stream.\n",
      "2023-12-06 23:04:01.946707: E ./tensorflow/compiler/xla/stream_executor/stream_executor_internal.h:124] SetPriority unimplemented for this stream.\n",
      "2023-12-06 23:04:01.946872: E ./tensorflow/compiler/xla/stream_executor/stream_executor_internal.h:124] SetPriority unimplemented for this stream.\n",
      "2023-12-06 23:04:01.947226: E ./tensorflow/compiler/xla/stream_executor/stream_executor_internal.h:124] SetPriority unimplemented for this stream.\n",
      "2023-12-06 23:04:01.947597: E ./tensorflow/compiler/xla/stream_executor/stream_executor_internal.h:124] SetPriority unimplemented for this stream.\n",
      "2023-12-06 23:04:01.947695: E ./tensorflow/compiler/xla/stream_executor/stream_executor_internal.h:124] SetPriority unimplemented for this stream.\n",
      "2023-12-06 23:04:01.947789: E ./tensorflow/compiler/xla/stream_executor/stream_executor_internal.h:124] SetPriority unimplemented for this stream.\n",
      "2023-12-06 23:04:01.948337: E ./tensorflow/compiler/xla/stream_executor/stream_executor_internal.h:124] SetPriority unimplemented for this stream.\n"
     ]
    },
    {
     "name": "stdout",
     "output_type": "stream",
     "text": [
      "  1/333 [..............................] - ETA: 14:43:13 - loss: 1.1954 - accuracy: 0.4375"
     ]
    },
    {
     "name": "stderr",
     "output_type": "stream",
     "text": [
      "2023-12-06 23:04:02.339203: E ./tensorflow/compiler/xla/stream_executor/stream_executor_internal.h:124] SetPriority unimplemented for this stream.\n",
      "2023-12-06 23:04:02.339360: E ./tensorflow/compiler/xla/stream_executor/stream_executor_internal.h:124] SetPriority unimplemented for this stream.\n",
      "2023-12-06 23:04:02.339514: E ./tensorflow/compiler/xla/stream_executor/stream_executor_internal.h:124] SetPriority unimplemented for this stream.\n",
      "2023-12-06 23:04:02.339579: E ./tensorflow/compiler/xla/stream_executor/stream_executor_internal.h:124] SetPriority unimplemented for this stream.\n",
      "2023-12-06 23:04:02.339965: E ./tensorflow/compiler/xla/stream_executor/stream_executor_internal.h:124] SetPriority unimplemented for this stream.\n",
      "2023-12-06 23:04:02.340204: E ./tensorflow/compiler/xla/stream_executor/stream_executor_internal.h:124] SetPriority unimplemented for this stream.\n"
     ]
    },
    {
     "name": "stdout",
     "output_type": "stream",
     "text": [
      "  2/333 [..............................] - ETA: 1:17 - loss: 0.9219 - accuracy: 0.5469    "
     ]
    },
    {
     "name": "stderr",
     "output_type": "stream",
     "text": [
      "2023-12-06 23:04:02.571307: E ./tensorflow/compiler/xla/stream_executor/stream_executor_internal.h:124] SetPriority unimplemented for this stream.\n",
      "2023-12-06 23:04:02.571495: E ./tensorflow/compiler/xla/stream_executor/stream_executor_internal.h:124] SetPriority unimplemented for this stream.\n",
      "2023-12-06 23:04:02.571857: E ./tensorflow/compiler/xla/stream_executor/stream_executor_internal.h:124] SetPriority unimplemented for this stream.\n"
     ]
    },
    {
     "name": "stdout",
     "output_type": "stream",
     "text": [
      "  3/333 [..............................] - ETA: 1:17 - loss: 0.8296 - accuracy: 0.5938"
     ]
    },
    {
     "name": "stderr",
     "output_type": "stream",
     "text": [
      "2023-12-06 23:04:02.806718: E ./tensorflow/compiler/xla/stream_executor/stream_executor_internal.h:124] SetPriority unimplemented for this stream.\n",
      "2023-12-06 23:04:02.807020: E ./tensorflow/compiler/xla/stream_executor/stream_executor_internal.h:124] SetPriority unimplemented for this stream.\n"
     ]
    },
    {
     "name": "stdout",
     "output_type": "stream",
     "text": [
      "  4/333 [..............................] - ETA: 1:16 - loss: 0.7728 - accuracy: 0.6250"
     ]
    },
    {
     "name": "stderr",
     "output_type": "stream",
     "text": [
      "2023-12-06 23:04:03.037781: E ./tensorflow/compiler/xla/stream_executor/stream_executor_internal.h:124] SetPriority unimplemented for this stream.\n"
     ]
    },
    {
     "name": "stdout",
     "output_type": "stream",
     "text": [
      "  6/333 [..............................] - ETA: 1:15 - loss: 0.6783 - accuracy: 0.6927"
     ]
    },
    {
     "name": "stderr",
     "output_type": "stream",
     "text": [
      "2023-12-06 23:04:03.495196: E ./tensorflow/compiler/xla/stream_executor/stream_executor_internal.h:124] SetPriority unimplemented for this stream.\n"
     ]
    },
    {
     "name": "stdout",
     "output_type": "stream",
     "text": [
      " 21/333 [>.............................] - ETA: 1:14 - loss: 0.3027 - accuracy: 0.8817"
     ]
    },
    {
     "name": "stderr",
     "output_type": "stream",
     "text": [
      "2023-12-06 23:04:07.083308: E ./tensorflow/compiler/xla/stream_executor/stream_executor_internal.h:124] SetPriority unimplemented for this stream.\n",
      "2023-12-06 23:04:07.083459: E ./tensorflow/compiler/xla/stream_executor/stream_executor_internal.h:124] SetPriority unimplemented for this stream.\n",
      "2023-12-06 23:04:07.083556: E ./tensorflow/compiler/xla/stream_executor/stream_executor_internal.h:124] SetPriority unimplemented for this stream.\n",
      "2023-12-06 23:04:07.084696: E ./tensorflow/compiler/xla/stream_executor/stream_executor_internal.h:124] SetPriority unimplemented for this stream.\n"
     ]
    },
    {
     "name": "stdout",
     "output_type": "stream",
     "text": [
      " 64/333 [====>.........................] - ETA: 1:03 - loss: 0.1136 - accuracy: 0.9561"
     ]
    },
    {
     "name": "stderr",
     "output_type": "stream",
     "text": [
      "2023-12-06 23:04:17.183745: E ./tensorflow/compiler/xla/stream_executor/stream_executor_internal.h:124] SetPriority unimplemented for this stream.\n"
     ]
    },
    {
     "name": "stdout",
     "output_type": "stream",
     "text": [
      "107/333 [========>.....................] - ETA: 53s - loss: 0.0785 - accuracy: 0.9708"
     ]
    },
    {
     "name": "stderr",
     "output_type": "stream",
     "text": [
      "2023-12-06 23:04:27.230593: E ./tensorflow/compiler/xla/stream_executor/stream_executor_internal.h:124] SetPriority unimplemented for this stream.\n"
     ]
    },
    {
     "name": "stdout",
     "output_type": "stream",
     "text": [
      "333/333 [==============================] - ETA: 0s - loss: 0.0321 - accuracy: 0.9882"
     ]
    },
    {
     "name": "stderr",
     "output_type": "stream",
     "text": [
      "2023-12-06 23:06:54.705559: E tensorflow/core/grappler/optimizers/meta_optimizer.cc:961] model_pruner failed: INVALID_ARGUMENT: Graph does not contain terminal node AssignAddVariableOp.\n"
     ]
    },
    {
     "name": "stdout",
     "output_type": "stream",
     "text": [
      "333/333 [==============================] - 363s 614ms/step - loss: 0.0321 - accuracy: 0.9882 - val_loss: 0.0136 - val_accuracy: 0.9944\n",
      "Epoch 2/15\n",
      "333/333 [==============================] - ETA: 0s - loss: 0.0052 - accuracy: 0.9985"
     ]
    },
    {
     "name": "stderr",
     "output_type": "stream",
     "text": [
      "2023-12-06 23:08:44.972764: E ./tensorflow/compiler/xla/stream_executor/stream_executor_internal.h:124] SetPriority unimplemented for this stream.\n"
     ]
    },
    {
     "name": "stdout",
     "output_type": "stream",
     "text": [
      "333/333 [==============================] - 90s 271ms/step - loss: 0.0052 - accuracy: 0.9985 - val_loss: 0.0075 - val_accuracy: 0.9982\n",
      "Epoch 3/15\n",
      "333/333 [==============================] - 86s 259ms/step - loss: 0.0060 - accuracy: 0.9978 - val_loss: 0.0083 - val_accuracy: 0.9981\n",
      "Epoch 4/15\n",
      "333/333 [==============================] - 86s 258ms/step - loss: 0.0015 - accuracy: 0.9994 - val_loss: 0.0108 - val_accuracy: 0.9978\n",
      "Epoch 5/15\n",
      "333/333 [==============================] - 86s 258ms/step - loss: 2.6798e-04 - accuracy: 1.0000 - val_loss: 0.0134 - val_accuracy: 0.9979\n"
     ]
    }
   ],
   "source": [
    "with strategy.scope():\n",
    "    print('Training...')\n",
    "    history = model.fit(X_train,\n",
    "                        y_train,\n",
    "                        epochs=EPOCHS,\n",
    "                        batch_size=BATCH_SIZE,\n",
    "                        callbacks=[patience_callback, model_checkpoint_callback],\n",
    "                        validation_data=(X_test, y_test))"
   ]
  },
  {
   "cell_type": "code",
   "execution_count": 26,
   "id": "88d88636",
   "metadata": {
    "execution": {
     "iopub.execute_input": "2023-12-06T23:13:14.656490Z",
     "iopub.status.busy": "2023-12-06T23:13:14.656180Z",
     "iopub.status.idle": "2023-12-06T23:13:28.164420Z",
     "shell.execute_reply": "2023-12-06T23:13:28.163144Z"
    },
    "papermill": {
     "duration": 13.613133,
     "end_time": "2023-12-06T23:13:28.166503",
     "exception": false,
     "start_time": "2023-12-06T23:13:14.553370",
     "status": "completed"
    },
    "tags": []
   },
   "outputs": [],
   "source": [
    "#load the weights of the best model\n",
    "model.load_weights(\"/kaggle/working/model weight.h5\")"
   ]
  },
  {
   "cell_type": "markdown",
   "id": "7eb9b91f",
   "metadata": {
    "papermill": {
     "duration": 0.103289,
     "end_time": "2023-12-06T23:13:28.413412",
     "exception": false,
     "start_time": "2023-12-06T23:13:28.310123",
     "status": "completed"
    },
    "tags": []
   },
   "source": [
    "# Submit the file"
   ]
  },
  {
   "cell_type": "code",
   "execution_count": 27,
   "id": "26faa5f1",
   "metadata": {
    "execution": {
     "iopub.execute_input": "2023-12-06T23:13:28.618901Z",
     "iopub.status.busy": "2023-12-06T23:13:28.617898Z",
     "iopub.status.idle": "2023-12-06T23:13:28.690025Z",
     "shell.execute_reply": "2023-12-06T23:13:28.689095Z"
    },
    "papermill": {
     "duration": 0.176195,
     "end_time": "2023-12-06T23:13:28.691584",
     "exception": false,
     "start_time": "2023-12-06T23:13:28.515389",
     "status": "completed"
    },
    "tags": []
   },
   "outputs": [
    {
     "data": {
      "text/html": [
       "<div>\n",
       "<style scoped>\n",
       "    .dataframe tbody tr th:only-of-type {\n",
       "        vertical-align: middle;\n",
       "    }\n",
       "\n",
       "    .dataframe tbody tr th {\n",
       "        vertical-align: top;\n",
       "    }\n",
       "\n",
       "    .dataframe thead th {\n",
       "        text-align: right;\n",
       "    }\n",
       "</style>\n",
       "<table border=\"1\" class=\"dataframe\">\n",
       "  <thead>\n",
       "    <tr style=\"text-align: right;\">\n",
       "      <th></th>\n",
       "      <th>ID</th>\n",
       "      <th>headline</th>\n",
       "    </tr>\n",
       "  </thead>\n",
       "  <tbody>\n",
       "    <tr>\n",
       "      <th>0</th>\n",
       "      <td>5f99b099-c4db-4a02-9753-28c5e94a6b34</td>\n",
       "      <td>Israeli military launches airstrikes into Gaza...</td>\n",
       "    </tr>\n",
       "    <tr>\n",
       "      <th>1</th>\n",
       "      <td>3c413552-32c0-4000-a745-b4217fe427ca</td>\n",
       "      <td>Expelled' fair use upheld</td>\n",
       "    </tr>\n",
       "    <tr>\n",
       "      <th>2</th>\n",
       "      <td>71060e3b-bab0-4218-b1ce-8284ae46f6c3</td>\n",
       "      <td>31 Times Frankie Boyle's Twitter Was Out Of Co...</td>\n",
       "    </tr>\n",
       "    <tr>\n",
       "      <th>3</th>\n",
       "      <td>f0a03121-600f-4b69-b6db-989d0f3cf28a</td>\n",
       "      <td>What Does Your Zodiac Sign Say About Your Love...</td>\n",
       "    </tr>\n",
       "    <tr>\n",
       "      <th>4</th>\n",
       "      <td>456f7cfa-bdfe-45bd-9e88-7c4ae53eb4ba</td>\n",
       "      <td>Larson B ice-shelf collapse reveals exotic org...</td>\n",
       "    </tr>\n",
       "  </tbody>\n",
       "</table>\n",
       "</div>"
      ],
      "text/plain": [
       "                                     ID  \\\n",
       "0  5f99b099-c4db-4a02-9753-28c5e94a6b34   \n",
       "1  3c413552-32c0-4000-a745-b4217fe427ca   \n",
       "2  71060e3b-bab0-4218-b1ce-8284ae46f6c3   \n",
       "3  f0a03121-600f-4b69-b6db-989d0f3cf28a   \n",
       "4  456f7cfa-bdfe-45bd-9e88-7c4ae53eb4ba   \n",
       "\n",
       "                                            headline  \n",
       "0  Israeli military launches airstrikes into Gaza...  \n",
       "1                          Expelled' fair use upheld  \n",
       "2  31 Times Frankie Boyle's Twitter Was Out Of Co...  \n",
       "3  What Does Your Zodiac Sign Say About Your Love...  \n",
       "4  Larson B ice-shelf collapse reveals exotic org...  "
      ]
     },
     "execution_count": 27,
     "metadata": {},
     "output_type": "execute_result"
    }
   ],
   "source": [
    "#\n",
    "test = pd.read_csv('/kaggle/input/data-ladies-end-of-year-hackathon/test_dataset.csv')\n",
    "test.head()"
   ]
  },
  {
   "cell_type": "code",
   "execution_count": 28,
   "id": "18618dd2",
   "metadata": {
    "execution": {
     "iopub.execute_input": "2023-12-06T23:13:28.896193Z",
     "iopub.status.busy": "2023-12-06T23:13:28.895278Z",
     "iopub.status.idle": "2023-12-06T23:13:30.424199Z",
     "shell.execute_reply": "2023-12-06T23:13:30.422912Z"
    },
    "papermill": {
     "duration": 1.633798,
     "end_time": "2023-12-06T23:13:30.426198",
     "exception": false,
     "start_time": "2023-12-06T23:13:28.792400",
     "status": "completed"
    },
    "tags": []
   },
   "outputs": [],
   "source": [
    "test_data = roberta_encode(test[\"headline\"].values, tokenizer)"
   ]
  },
  {
   "cell_type": "code",
   "execution_count": 29,
   "id": "a0ffa8f4",
   "metadata": {
    "execution": {
     "iopub.execute_input": "2023-12-06T23:13:30.635655Z",
     "iopub.status.busy": "2023-12-06T23:13:30.634798Z",
     "iopub.status.idle": "2023-12-06T23:13:56.817269Z",
     "shell.execute_reply": "2023-12-06T23:13:56.816169Z"
    },
    "papermill": {
     "duration": 26.288322,
     "end_time": "2023-12-06T23:13:56.819238",
     "exception": false,
     "start_time": "2023-12-06T23:13:30.530916",
     "status": "completed"
    },
    "tags": []
   },
   "outputs": [
    {
     "name": "stderr",
     "output_type": "stream",
     "text": [
      "2023-12-06 23:13:34.676982: E tensorflow/core/grappler/optimizers/meta_optimizer.cc:961] model_pruner failed: INVALID_ARGUMENT: Graph does not contain terminal node AssignAddVariableOp.\n"
     ]
    },
    {
     "name": "stdout",
     "output_type": "stream",
     "text": [
      "475/475 [==============================] - 26s 27ms/step\n"
     ]
    }
   ],
   "source": [
    "with strategy.scope():\n",
    "    pred = model.predict(test_data)"
   ]
  },
  {
   "cell_type": "code",
   "execution_count": 30,
   "id": "b2651c3a",
   "metadata": {
    "execution": {
     "iopub.execute_input": "2023-12-06T23:13:57.054816Z",
     "iopub.status.busy": "2023-12-06T23:13:57.054411Z",
     "iopub.status.idle": "2023-12-06T23:13:57.084421Z",
     "shell.execute_reply": "2023-12-06T23:13:57.083523Z"
    },
    "papermill": {
     "duration": 0.146447,
     "end_time": "2023-12-06T23:13:57.086156",
     "exception": false,
     "start_time": "2023-12-06T23:13:56.939709",
     "status": "completed"
    },
    "tags": []
   },
   "outputs": [],
   "source": [
    "final_values = [np.argmax(p) for p in pred]"
   ]
  },
  {
   "cell_type": "code",
   "execution_count": 31,
   "id": "d00421c7",
   "metadata": {
    "execution": {
     "iopub.execute_input": "2023-12-06T23:13:57.313469Z",
     "iopub.status.busy": "2023-12-06T23:13:57.313133Z",
     "iopub.status.idle": "2023-12-06T23:13:57.318883Z",
     "shell.execute_reply": "2023-12-06T23:13:57.318054Z"
    },
    "papermill": {
     "duration": 0.121477,
     "end_time": "2023-12-06T23:13:57.320607",
     "exception": false,
     "start_time": "2023-12-06T23:13:57.199130",
     "status": "completed"
    },
    "tags": []
   },
   "outputs": [],
   "source": [
    "submission = pd.DataFrame(columns = [\"ID\",\"TARGET\"])"
   ]
  },
  {
   "cell_type": "code",
   "execution_count": 32,
   "id": "e7bc314f",
   "metadata": {
    "execution": {
     "iopub.execute_input": "2023-12-06T23:13:57.555021Z",
     "iopub.status.busy": "2023-12-06T23:13:57.554658Z",
     "iopub.status.idle": "2023-12-06T23:13:57.585832Z",
     "shell.execute_reply": "2023-12-06T23:13:57.584946Z"
    },
    "papermill": {
     "duration": 0.15124,
     "end_time": "2023-12-06T23:13:57.587545",
     "exception": false,
     "start_time": "2023-12-06T23:13:57.436305",
     "status": "completed"
    },
    "tags": []
   },
   "outputs": [],
   "source": [
    "submission[\"ID\"] = test[\"ID\"].values\n",
    "submission[\"TARGET\"] = final_values"
   ]
  },
  {
   "cell_type": "code",
   "execution_count": 33,
   "id": "97d2f79a",
   "metadata": {
    "execution": {
     "iopub.execute_input": "2023-12-06T23:13:57.847254Z",
     "iopub.status.busy": "2023-12-06T23:13:57.846898Z",
     "iopub.status.idle": "2023-12-06T23:13:57.879219Z",
     "shell.execute_reply": "2023-12-06T23:13:57.878372Z"
    },
    "papermill": {
     "duration": 0.153058,
     "end_time": "2023-12-06T23:13:57.881230",
     "exception": false,
     "start_time": "2023-12-06T23:13:57.728172",
     "status": "completed"
    },
    "tags": []
   },
   "outputs": [],
   "source": [
    "submission.to_csv(\"submission.csv\", index=False)"
   ]
  },
  {
   "cell_type": "markdown",
   "id": "de44f1e5",
   "metadata": {
    "papermill": {
     "duration": 0.118782,
     "end_time": "2023-12-06T23:13:58.117883",
     "exception": false,
     "start_time": "2023-12-06T23:13:57.999101",
     "status": "completed"
    },
    "tags": []
   },
   "source": [
    "# Its done 🥳, Thank you for reading. Liked it ? Please give me an upvote \n"
   ]
  }
 ],
 "metadata": {
  "kaggle": {
   "accelerator": "tpu1vmV38",
   "dataSources": [
    {
     "datasetId": 4008873,
     "sourceId": 6976437,
     "sourceType": "datasetVersion"
    }
   ],
   "dockerImageVersionId": 30589,
   "isGpuEnabled": false,
   "isInternetEnabled": true,
   "language": "python",
   "sourceType": "notebook"
  },
  "kernelspec": {
   "display_name": "Python 3",
   "language": "python",
   "name": "python3"
  },
  "language_info": {
   "codemirror_mode": {
    "name": "ipython",
    "version": 3
   },
   "file_extension": ".py",
   "mimetype": "text/x-python",
   "name": "python",
   "nbconvert_exporter": "python",
   "pygments_lexer": "ipython3",
   "version": "3.10.13"
  },
  "papermill": {
   "default_parameters": {},
   "duration": 871.346231,
   "end_time": "2023-12-06T23:14:07.079075",
   "environment_variables": {},
   "exception": null,
   "input_path": "__notebook__.ipynb",
   "output_path": "__notebook__.ipynb",
   "parameters": {},
   "start_time": "2023-12-06T22:59:35.732844",
   "version": "2.5.0"
  }
 },
 "nbformat": 4,
 "nbformat_minor": 5
}
